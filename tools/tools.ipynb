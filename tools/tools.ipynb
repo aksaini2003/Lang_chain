{
 "cells": [
  {
   "cell_type": "code",
   "execution_count": 1,
   "id": "b8636419",
   "metadata": {},
   "outputs": [],
   "source": [
    "#there are 2 types of tools 1st is builtin and another is custom\n",
    "\n"
   ]
  },
  {
   "cell_type": "code",
   "execution_count": 3,
   "id": "f8256789",
   "metadata": {},
   "outputs": [
    {
     "name": "stdout",
     "output_type": "stream",
     "text": [
      "Page: Machine learning\n",
      "Summary: Machine learning (ML) is a field of study in artificial intelligence concerned with the development and study of statistical algorithms that can learn from data and generalise to unseen data, and thus perform tasks without explicit instructions. Within a subdiscipline in machine learning, advances in the field of deep learning have allowed neural networks, a class of statistical algorithms, to surpass many previous machine learning approaches in performance.\n",
      "ML finds application in many fields, including natural language processing, computer vision, speech recognition, email filtering, agriculture, and medicine. The application of ML to business problems is known as predictive analytics.\n",
      "Statistics and mathematical optimisation (mathematical programming) methods comprise the foundations of machine learning. Data mining is a related field of study, focusing on exploratory data analysis (EDA) via unsupervised learning. \n",
      "From a theoretical viewpoint, probably approximately correct learning provides a framework for describing machine learning.\n"
     ]
    }
   ],
   "source": [
    "from langchain_community.tools import WikipediaQueryRun\n",
    "from langchain_community.utilities import WikipediaAPIWrapper\n",
    "\n",
    "api_wrapper = WikipediaAPIWrapper(top_k_results=1)\n",
    "tool = WikipediaQueryRun(api_wrapper=api_wrapper)\n",
    "\n",
    "print(tool.invoke({\"query\": \"what are the types of machine learning\"}))"
   ]
  },
  {
   "cell_type": "code",
   "execution_count": null,
   "id": "89e798ff",
   "metadata": {},
   "outputs": [],
   "source": [
    "#now lets see the custom tools\n",
    "#SIMPLEST WAY TO CREATE A TOOLS USING THE LANGCHAIN\n",
    "#we have to do typehinting,function description in docstring to the funciton and use @tool decorator\n",
    "from langchain_core.tools import tool\n",
    "@tool\n",
    "def multiply(a: int,b: int) -> int:\n",
    "    '''Multiply 2 Numbers '''\n",
    "    return a*b\n"
   ]
  },
  {
   "cell_type": "code",
   "execution_count": 5,
   "id": "35d2595e",
   "metadata": {},
   "outputs": [
    {
     "data": {
      "text/plain": [
       "1815"
      ]
     },
     "execution_count": 5,
     "metadata": {},
     "output_type": "execute_result"
    }
   ],
   "source": [
    "#lets call it \n",
    "multiply.invoke({'a':33,'b':55})"
   ]
  },
  {
   "cell_type": "code",
   "execution_count": 6,
   "id": "ef7ab274",
   "metadata": {},
   "outputs": [
    {
     "name": "stdout",
     "output_type": "stream",
     "text": [
      "{'a': {'title': 'A', 'type': 'integer'}, 'b': {'title': 'B', 'type': 'integer'}}\n",
      "Multiply 2 Numbers\n",
      "multiply\n"
     ]
    }
   ],
   "source": [
    "#lets see its attributes \n",
    "print(multiply.args) #this will return the input with the type \n",
    "print(multiply.description) #this will return the doc string\n",
    "print(multiply.name) #it will return the name of func"
   ]
  },
  {
   "cell_type": "code",
   "execution_count": 7,
   "id": "2fd26932",
   "metadata": {},
   "outputs": [],
   "source": [
    "#lets make a custom tools with sructuretools \n",
    "from langchain.tools import StructuredTool \n",
    "\n",
    "from pydantic import BaseModel,Field\n",
    "class Multiply_input(BaseModel):\n",
    "    a:int=Field(required=True,description='First number for multiplication')\n",
    "    b:int=Field(required=True,description='Second5 number for multiplication')\n",
    "    \n",
    "def mul(a: int,b: int)-> int:\n",
    "    return a*b \n"
   ]
  },
  {
   "cell_type": "code",
   "execution_count": 8,
   "id": "076304dd",
   "metadata": {},
   "outputs": [],
   "source": [
    "#lets mame the tool\n",
    "multiply_tool=StructuredTool.from_function(args_schema=Multiply_input,func=mul,description=\"Multiply 2 Numbers\",name='Multiply')"
   ]
  },
  {
   "cell_type": "code",
   "execution_count": 9,
   "id": "679ab3b6",
   "metadata": {},
   "outputs": [
    {
     "data": {
      "text/plain": [
       "1496"
      ]
     },
     "execution_count": 9,
     "metadata": {},
     "output_type": "execute_result"
    }
   ],
   "source": [
    "#lets call it \n",
    "results=multiply_tool.invoke({'a':34,'b':44})\n",
    "results\n"
   ]
  },
  {
   "cell_type": "code",
   "execution_count": 10,
   "id": "038323ea",
   "metadata": {},
   "outputs": [
    {
     "name": "stdout",
     "output_type": "stream",
     "text": [
      "{'a': {'description': 'First number for multiplication', 'required': True, 'title': 'A', 'type': 'integer'}, 'b': {'description': 'Second5 number for multiplication', 'required': True, 'title': 'B', 'type': 'integer'}}\n",
      "Multiply\n",
      "Multiply 2 Numbers\n"
     ]
    }
   ],
   "source": [
    "print(multiply_tool.args)\n",
    "print(multiply_tool.name)\n",
    "print(multiply_tool.description)"
   ]
  },
  {
   "cell_type": "code",
   "execution_count": 11,
   "id": "5554d6cc",
   "metadata": {},
   "outputs": [],
   "source": [
    "#3rs using the base tools\n",
    "from langchain.tools import BaseTool\n",
    "# NOTE: BaseTool is the abstract base class for all tools in langchain to define the core structure and interface that any tool must follow,weather. It's simple one-liner or a fully customied function \n",
    "# All other tools types like @tool,StructuredTool are built on top of BaseTool\n",
    "from typing import Type\n",
    "class Multiply_tool(BaseTool):\n",
    "    name: str ='Multiply' \n",
    "    description: str='Multiply 2 Numbers' \n",
    "    args_schema:Type[BaseModel]=Multiply_input #here we are usign the same schema as others\n",
    "    \n",
    "    def _run(self,a: int, b: int)-> int:\n",
    "        return a*b "
   ]
  },
  {
   "cell_type": "code",
   "execution_count": 12,
   "id": "54a04e80",
   "metadata": {},
   "outputs": [
    {
     "data": {
      "text/plain": [
       "18"
      ]
     },
     "execution_count": 12,
     "metadata": {},
     "output_type": "execute_result"
    }
   ],
   "source": [
    "mul_tools=Multiply_tool()\n",
    "mul_tools.invoke({'a':3,'b':6\n",
    "                  })"
   ]
  },
  {
   "cell_type": "code",
   "execution_count": 13,
   "id": "428ad62b",
   "metadata": {},
   "outputs": [
    {
     "name": "stdout",
     "output_type": "stream",
     "text": [
      "{'a': {'description': 'First number for multiplication', 'required': True, 'title': 'A', 'type': 'integer'}, 'b': {'description': 'Second5 number for multiplication', 'required': True, 'title': 'B', 'type': 'integer'}}\n",
      "Multiply\n",
      "Multiply 2 Numbers\n"
     ]
    }
   ],
   "source": [
    "print(mul_tools.args)\n",
    "\n",
    "print(mul_tools.name)\n",
    "print(mul_tools.description)"
   ]
  },
  {
   "cell_type": "code",
   "execution_count": 4,
   "id": "56a077c4",
   "metadata": {},
   "outputs": [],
   "source": [
    "#let also see the wokring of the toolkit \n",
    "#toolkit is a collection of more then 1 related tools that serve a common purpose packaged togther for convenience and\n",
    "#reusability \n",
    "#custom tools creation\n",
    "from langchain.tools import tool \n",
    "@tool \n",
    "def Count_alphabets(a: str)-> int:\n",
    "    \"\"\"Counts the number of alphabets present in the given string\"\"\"\n",
    "    count=0 \n",
    "    for j in a:\n",
    "        if j.isalpha():\n",
    "            count+=1 \n",
    "    return count \n",
    "\n",
    "@tool \n",
    "def Count_digits(a: str)->int: \n",
    "    \"\"\"Counts the number of digits present in the given string\"\"\"\n",
    "    count=0 \n",
    "    for i in a:\n",
    "        if i.isdigit():\n",
    "            count+=1 \n",
    "    return count \n",
    "         \n",
    "\n"
   ]
  },
  {
   "cell_type": "code",
   "execution_count": 5,
   "id": "022f163f",
   "metadata": {},
   "outputs": [
    {
     "name": "stdout",
     "output_type": "stream",
     "text": [
      "28\n",
      "4\n"
     ]
    }
   ],
   "source": [
    "#first lets test our tools before creating a toolkit of them \n",
    "print(Count_alphabets.invoke('my name is aashish and I am 21 year old.'))\n",
    "print(Count_digits.invoke('Multiplication of 3 with 7 is 21'))"
   ]
  },
  {
   "cell_type": "code",
   "execution_count": 7,
   "id": "3b5dc7da",
   "metadata": {},
   "outputs": [],
   "source": [
    "#we have to create a class of it \n",
    "class String_toolkit:\n",
    "    def get_tools(self):\n",
    "        return [Count_alphabets,Count_digits]\n",
    "    \n",
    "    \n",
    "    \n"
   ]
  },
  {
   "cell_type": "code",
   "execution_count": 10,
   "id": "035a69ab",
   "metadata": {},
   "outputs": [
    {
     "name": "stdout",
     "output_type": "stream",
     "text": [
      "Name  Count_alphabets ,Description:  Counts the number of alphabets present in the given string Arguments:  {'a': {'title': 'A', 'type': 'string'}}\n",
      "Name  Count_digits ,Description:  Counts the number of digits present in the given string Arguments:  {'a': {'title': 'A', 'type': 'string'}}\n"
     ]
    }
   ],
   "source": [
    "# object creation\n",
    "string_toolkit=String_toolkit()\n",
    "tools=string_toolkit.get_tools() \n",
    "for tool in tools:\n",
    "    print(\"Name \",tool.name,',Description: ',tool.description,'Arguments: ',tool.args)"
   ]
  }
 ],
 "metadata": {
  "kernelspec": {
   "display_name": "lang_env",
   "language": "python",
   "name": "python3"
  },
  "language_info": {
   "codemirror_mode": {
    "name": "ipython",
    "version": 3
   },
   "file_extension": ".py",
   "mimetype": "text/x-python",
   "name": "python",
   "nbconvert_exporter": "python",
   "pygments_lexer": "ipython3",
   "version": "3.12.1"
  }
 },
 "nbformat": 4,
 "nbformat_minor": 5
}
