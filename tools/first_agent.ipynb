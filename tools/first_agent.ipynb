{
 "cells": [
  {
   "cell_type": "code",
   "execution_count": 30,
   "id": "07d446bb",
   "metadata": {},
   "outputs": [
    {
     "name": "stdout",
     "output_type": "stream",
     "text": [
      "Page: Machine learning\n",
      "Summary: Machine learning (ML) is a field of study in artificial intelligence concerned with the development and study of statistical algorithms that can learn from data and generalise to unseen data, and thus perform tasks without explicit instructions. Within a subdiscipline in machine learning, advances in the field of deep learning have allowed neural networks, a class of statistical algorithms, to surpass many previous machine learning approaches in performance.\n",
      "ML finds application in many fields, including natural language processing, computer vision, speech recognition, email filtering, agriculture, and medicine. The application of ML to business problems is known as predictive analytics.\n",
      "Statistics and mathematical optimisation (mathematical programming) methods comprise the foundations of machine learning. Data mining is a related field of study, focusing on exploratory data analysis (EDA) via unsupervised learning. \n",
      "From a theoretical viewpoint, probably approximately correct learning provides a framework for describing machine learning.\n",
      "\n",
      "\n"
     ]
    }
   ],
   "source": [
    "#here we are going to create our first agent \n",
    "#lets firstly create a tool for websearch\n",
    "from langchain.tools import DuckDuckGoSearchResults \n",
    "# search_tool=DuckDuckGoSearchResults() \n",
    "# search_tool.invoke('what is machine learning')\n",
    "#currently the duckduck go isn't working so are using the wikipedia retriever\n",
    "from langchain_community.tools import WikipediaQueryRun\n",
    "from langchain_community.utilities import WikipediaAPIWrapper\n",
    "\n",
    "api_wrapper = WikipediaAPIWrapper(top_k_results=1)\n",
    "search_tool = WikipediaQueryRun(api_wrapper=api_wrapper)\n",
    "\n",
    "print(search_tool.invoke({\"query\": \"What is Machine Learning\"}))"
   ]
  },
  {
   "cell_type": "code",
   "execution_count": 11,
   "id": "e710131f",
   "metadata": {},
   "outputs": [],
   "source": [
    "#so it is working fine lets add the llm \n",
    "from langchain_groq import ChatGroq\n",
    "from dotenv import load_dotenv\n",
    "import os \n",
    "\n",
    "load_dotenv()\n",
    "groq_api_key=os.environ['GROQ_API_KEY']\n",
    "llm=ChatGroq(model='Llama3-70b-8192')"
   ]
  },
  {
   "cell_type": "code",
   "execution_count": 12,
   "id": "74a93ea1",
   "metadata": {},
   "outputs": [
    {
     "data": {
      "text/plain": [
       "AIMessage(content=\"Hi! It's nice to meet you. Is there something I can help you with, or would you like to chat?\", additional_kwargs={}, response_metadata={'token_usage': {'completion_tokens': 26, 'prompt_tokens': 11, 'total_tokens': 37, 'completion_time': 0.074285714, 'prompt_time': 0.000284357, 'queue_time': 0.053963503, 'total_time': 0.074570071}, 'model_name': 'Llama3-70b-8192', 'system_fingerprint': 'fp_dd4ae1c591', 'finish_reason': 'stop', 'logprobs': None}, id='run--dfc1c4ad-686d-447b-baa7-0d5641176606-0', usage_metadata={'input_tokens': 11, 'output_tokens': 26, 'total_tokens': 37})"
      ]
     },
     "execution_count": 12,
     "metadata": {},
     "output_type": "execute_result"
    }
   ],
   "source": [
    "llm.invoke('hi')"
   ]
  },
  {
   "cell_type": "code",
   "execution_count": 14,
   "id": "b18d15c4",
   "metadata": {},
   "outputs": [
    {
     "name": "stderr",
     "output_type": "stream",
     "text": [
      "c:\\Users\\aashi\\Envs\\lang_env\\Lib\\site-packages\\langsmith\\client.py:272: LangSmithMissingAPIKeyWarning: API key must be provided when using hosted LangSmith API\n",
      "  warnings.warn(\n"
     ]
    }
   ],
   "source": [
    "#first for creating the agent we required a prompt \n",
    "#in which we instruct llm how to work and tell about the tools and how to invoke them \n",
    "#so here we are importing from the langchain_hub\n",
    "from langchain import hub \n",
    "prompt=hub.pull('hwchase17/react')"
   ]
  },
  {
   "cell_type": "code",
   "execution_count": null,
   "id": "ac13d5be",
   "metadata": {},
   "outputs": [
    {
     "data": {
      "text/plain": [
       "\"input_variables=['agent_scratchpad', 'input', 'tool_names', 'tools'] input_types={} partial_variables={} metadata={'lc_hub_owner': 'hwchase17', 'lc_hub_repo': 'react', 'lc_hub_commit_hash': 'd15fe3c426f1c4b3f37c9198853e4a86e20c425ca7f4752ec0c9b0e97ca7ea4d'} template='Answer the following questions as best you can. You have access to the following tools:\\\\n\\\\n{tools}\\\\n\\\\nUse the following format:\\\\n\\\\nQuestion: the input question you must answer\\\\nThought: you should always think about what to do\\\\nAction: the action to take, should be one of [{tool_names}]\\\\nAction Input: the input to the action\\\\nObservation: the result of the action\\\\n... (this Thought/Action/Action Input/Observation can repeat N times)\\\\nThought: I now know the final answer\\\\nFinal Answer: the final answer to the original input question\\\\n\\\\nBegin!\\\\n\\\\nQuestion: {input}\\\\nThought:{agent_scratchpad}'\""
      ]
     },
     "execution_count": 19,
     "metadata": {},
     "output_type": "execute_result"
    }
   ],
   "source": [
    "\"\"\"Answer the following questions as best you can. You have access to the following tools:\n",
    "\n",
    "{tools}\n",
    "\n",
    "Use the following format:\n",
    "\n",
    "Question: the input question you must answer\n",
    "Thought: you should always think about what to do\n",
    "Action: the action to take, should be one of [{tool_names}]\n",
    "Action Input: the input to the action\n",
    "Observation: the result of the action\n",
    "... (this Thought/Action/Action Input/Observation can repeat N times)\n",
    "Thought: I now know the final answer\n",
    "Final Answer: the final answer to the original input question\n",
    "\n",
    "Begin!\n",
    "\n",
    "Question: {input}\n",
    "Thought:{agent_scratchpad}\"\"\" \n",
    "\n",
    "# This above is the actual prompt that we have pulled from the langchain_hub and we use it in our ReAct agent "
   ]
  },
  {
   "cell_type": "code",
   "execution_count": 20,
   "id": "e3495699",
   "metadata": {},
   "outputs": [],
   "source": [
    "#lets create a agent \n",
    "from langchain.agents import create_react_agent ,AgentExecutor \n",
    "our_agent=create_react_agent(llm=llm,tools=[search_tool],prompt=prompt)"
   ]
  },
  {
   "cell_type": "code",
   "execution_count": 21,
   "id": "ca0f43b9",
   "metadata": {},
   "outputs": [],
   "source": [
    "agent_execution=AgentExecutor(agent=our_agent,tools=[search_tool],verbose=True)"
   ]
  },
  {
   "cell_type": "code",
   "execution_count": null,
   "id": "48aa3fcd",
   "metadata": {},
   "outputs": [
    {
     "name": "stdout",
     "output_type": "stream",
     "text": [
      "\n",
      "\n",
      "\u001b[1m> Entering new AgentExecutor chain...\u001b[0m\n",
      "\u001b[32;1m\u001b[1;3mThought: I need to find the winner of IPL 2025, but I realize that IPL 2025 has not yet occurred, so I need to find a way to answer this question differently.\n",
      "\n",
      "Action: wikipedia\n",
      "Action Input: Indian Premier League\u001b[0m\u001b[36;1m\u001b[1;3mPage: Indian Premier League\n",
      "Summary: The Indian Premier League (IPL) is a professional Twenty20 (T20) cricket league in India, organised by the Board of Control for Cricket in India (BCCI). Founded in 2007, it features ten city-based franchise teams. The IPL is the most popular and richest cricket league, and the second-richest sports league in the world. It is held annually between March and May. It has an exclusive window in the Future Tours Programme of the International Cricket Council, resulting in fewer international tours occurring during the seasons. It is also the most viewed Indian sports event, per the Broadcast Audience Research Council.\n",
      "In 2010, the IPL became the first sporting event to broadcast live on YouTube. In 2014, it ranked sixth in attendance among all sports leagues. Inspired by the success of the IPL, other Indian sports leagues have been established. The IPL is the second-richest sports league in the world by per-match value, after the National Football League. In 2023, the league sold its media rights for the next four seasons for US$6.4 billion to Viacom18 and Star Sports, which meant that each IPL match was valued at $13.4 million. As of 2025, there have been 18 seasons of the tournament. The current champions are the Royal Challengers Bengaluru, who won the 2025 season after defeating the Punjab Kings in the final.\u001b[0m\u001b[32;1m\u001b[1;3mThought: I think I've got it! The observation from Wikipedia has the answer I need.\n",
      "\n",
      "Final Answer: The Royal Challengers Bengaluru won the IPL 2025.\u001b[0m\n",
      "\n",
      "\u001b[1m> Finished chain.\u001b[0m\n"
     ]
    },
    {
     "data": {
      "text/plain": [
       "{'input': 'which team won the ipl 2025',\n",
       " 'output': 'The Royal Challengers Bengaluru won the IPL 2025.'}"
      ]
     },
     "execution_count": 29,
     "metadata": {},
     "output_type": "execute_result"
    }
   ],
   "source": [
    "# agent_execution.invoke('tell me which ipl team won the ipl 2025')\n",
    "#above doesn't works we have to pass the userquery as the dictionary \n",
    "\n",
    "agent_execution.invoke({'input':'which team won the ipl 2025'})\n",
    "#verbose is True this will also show the thinking of our LLM model for completing the task "
   ]
  },
  {
   "cell_type": "code",
   "execution_count": 31,
   "id": "90dec571",
   "metadata": {},
   "outputs": [
    {
     "name": "stdout",
     "output_type": "stream",
     "text": [
      "\n",
      "\n",
      "\u001b[1m> Entering new AgentExecutor chain...\u001b[0m\n",
      "\u001b[32;1m\u001b[1;3mI need to find a reliable source of current news, but I only have access to Wikipedia, which is not ideal for getting the latest news. Wikipedia is better suited for general knowledge and historical events.\n",
      "\n",
      "Thought: I can try searching for \"2025\" on Wikipedia to see if there are any notable events or articles related to the year 2025.\n",
      "\n",
      "Action: wikipedia\n",
      "Action Input: 2025\u001b[0m\u001b[36;1m\u001b[1;3mPage: 2025\n",
      "Summary: 2025 (MMXXV) is the current year, and is a common year starting on Wednesday of the Gregorian calendar, the 2025th year of the Common Era (CE) and Anno Domini (AD) designations, the 25th  year of the 3rd millennium and the 21st century, and the  6th   year of the 2020s decade.  \n",
      "So far, the year has seen the continuation of major armed conflicts, including the Russian invasion of Ukraine, the Sudanese civil war, and the Gaza war. Internal crises in Bangladesh, Ecuador, Georgia, Germany, Haiti, Somalia, and South Korea continued into this year, with the latter leading to Yoon Suk Yeol's arrest and removal from office. Several new conflicts emerged, including one between India and Pakistan in May and another between Iran and Israel in June.\n",
      "In economics and business, the return of Donald Trump to the U.S. presidency ushered in a series of tariffs levied by America on most of the world, significantly disrupting global trade, in addition to reinvigorating the China–United States trade war. The technology sector was additionally hit with the release of DeepSeek's chatbot, a Chinese large language model which competes with ChatGPT. Aviation and aerospace also saw accidents this year, including when Air India Flight 171 crashed in Ahmedabad, India. Several advances in space exploration were made as well, including the first crewed polar orbit spaceflight, and the first successful landing of a spacecraft on the Moon by a private company.\u001b[0m\u001b[32;1m\u001b[1;3mThought: I have found some information about 2025 on Wikipedia, but it's not exactly what I was looking for. The page seems to be a collection of notable events that have occurred in 2025, but it's not a news feed that provides up-to-date information.\n",
      "\n",
      "Thought: I realize that Wikipedia is not the best source for getting the latest news. I need to find a way to provide a more accurate answer to the question.\n",
      "\n",
      "Thought: I can modify my answer to reflect the limitations of Wikipedia. Instead of providing the latest news, I can provide a summary of the notable events that have occurred in 2025 according to Wikipedia.\n",
      "\n",
      "Final Answer: According to Wikipedia, 2025 has seen the continuation of major armed conflicts, internal crises in several countries, and economic disruptions due to trade wars. There have also been significant events in the technology and aviation sectors, as well as advances in space exploration. However, please note that Wikipedia is not a reliable source for getting the latest news, and this information may not be up-to-date or comprehensive.\u001b[0m\n",
      "\n",
      "\u001b[1m> Finished chain.\u001b[0m\n"
     ]
    },
    {
     "data": {
      "text/plain": [
       "{'input': 'Tell me about the latest 2025 news',\n",
       " 'output': 'According to Wikipedia, 2025 has seen the continuation of major armed conflicts, internal crises in several countries, and economic disruptions due to trade wars. There have also been significant events in the technology and aviation sectors, as well as advances in space exploration. However, please note that Wikipedia is not a reliable source for getting the latest news, and this information may not be up-to-date or comprehensive.'}"
      ]
     },
     "execution_count": 31,
     "metadata": {},
     "output_type": "execute_result"
    }
   ],
   "source": [
    "agent_execution.invoke({'input':'Tell me about the latest 2025 news'})"
   ]
  },
  {
   "cell_type": "code",
   "execution_count": 43,
   "id": "aeb342f7",
   "metadata": {},
   "outputs": [
    {
     "data": {
      "text/plain": [
       "{'request': {'type': 'City',\n",
       "  'query': 'Alwar, India',\n",
       "  'language': 'en',\n",
       "  'unit': 'm'},\n",
       " 'location': {'name': 'Alwar',\n",
       "  'country': 'India',\n",
       "  'region': 'Rajasthan',\n",
       "  'lat': '27.567',\n",
       "  'lon': '76.600',\n",
       "  'timezone_id': 'Asia/Kolkata',\n",
       "  'localtime': '2025-07-08 16:48',\n",
       "  'localtime_epoch': 1751993280,\n",
       "  'utc_offset': '5.50'},\n",
       " 'current': {'observation_time': '11:18 AM',\n",
       "  'temperature': 36,\n",
       "  'weather_code': 116,\n",
       "  'weather_icons': ['https://cdn.worldweatheronline.com/images/wsymbols01_png_64/wsymbol_0002_sunny_intervals.png'],\n",
       "  'weather_descriptions': ['Partly Cloudy '],\n",
       "  'astro': {'sunrise': '05:35 AM',\n",
       "   'sunset': '07:23 PM',\n",
       "   'moonrise': '05:34 PM',\n",
       "   'moonset': '02:54 AM',\n",
       "   'moon_phase': 'Waxing Gibbous',\n",
       "   'moon_illumination': 92},\n",
       "  'air_quality': {'co': '288.6',\n",
       "   'no2': '5.18',\n",
       "   'o3': '126',\n",
       "   'so2': '5.55',\n",
       "   'pm2_5': '43.845',\n",
       "   'pm10': '92.685',\n",
       "   'us-epa-index': '3',\n",
       "   'gb-defra-index': '3'},\n",
       "  'wind_speed': 10,\n",
       "  'wind_degree': 274,\n",
       "  'wind_dir': 'W',\n",
       "  'pressure': 997,\n",
       "  'precip': 0,\n",
       "  'humidity': 40,\n",
       "  'cloudcover': 44,\n",
       "  'feelslike': 41,\n",
       "  'uv_index': 1,\n",
       "  'visibility': 10,\n",
       "  'is_day': 'yes'}}"
      ]
     },
     "execution_count": 43,
     "metadata": {},
     "output_type": "execute_result"
    }
   ],
   "source": [
    "#lets make a simple agent in which we are including the weather api and the realtime websearch\n",
    "#here we are using the webstack.com's api for gathering the weather related data of a particular place \n",
    "from langchain.tools import tool \n",
    "import requests as r \n",
    "\n",
    "@tool \n",
    "def Weather_tool(location: str):\n",
    "    \n",
    "    \"\"\"This function return the Weather condition of a partcular given location\"\"\"\n",
    "    api_key='bf7a779daf63abbf09092cf07e48e24b'\n",
    "    url= f'https://api.weatherstack.com/current?access_key={api_key}&query={location}'\n",
    "    response=r.post(url=url)\n",
    "    return response.json()\n",
    "Weather_tool.invoke({'location':'Alwar'}) #working fine \n",
    "    "
   ]
  },
  {
   "cell_type": "code",
   "execution_count": 44,
   "id": "e306eb16",
   "metadata": {},
   "outputs": [],
   "source": [
    "agent=create_react_agent(tools=[search_tool,Weather_tool],\n",
    "                         prompt=prompt,llm=llm)\n"
   ]
  },
  {
   "cell_type": "code",
   "execution_count": 45,
   "id": "9573b6c2",
   "metadata": {},
   "outputs": [],
   "source": [
    "agent_exe=AgentExecutor(agent=agent,tools=[search_tool,Weather_tool],verbose=True)\n"
   ]
  },
  {
   "cell_type": "code",
   "execution_count": 46,
   "id": "7aff6d86",
   "metadata": {},
   "outputs": [
    {
     "name": "stdout",
     "output_type": "stream",
     "text": [
      "\n",
      "\n",
      "\u001b[1m> Entering new AgentExecutor chain...\u001b[0m\n",
      "\u001b[32;1m\u001b[1;3mThought: I need to find the capital of India, and then I need to find the current weather conditions of that city.\n",
      "\n",
      "Action: wikipedia\n",
      "Action Input: \"Capital of India\"\u001b[0m\u001b[36;1m\u001b[1;3mPage: List of capitals of India\n",
      "Summary: This is a list of locations which have served as capital cities in India. The current capital city is New Delhi, which replaced Calcutta in 1911.\u001b[0m\u001b[32;1m\u001b[1;3mI know the capital of India is New Delhi.\n",
      "\n",
      "Action: wikipedia\n",
      "Action Input: \"New Delhi\"\u001b[0m\u001b[36;1m\u001b[1;3mPage: New Delhi\n",
      "Summary: New Delhi ( ; Hindi: Naī Dillī, pronounced [ˈnəiː ˈdɪlːiː]) is the capital of India and a part of the National Capital Territory of Delhi (NCT). New Delhi is the seat of all three branches of the Government of India, hosting the Rashtrapati Bhavan, Sansad Bhavan, and the Supreme Court. New Delhi is a municipality within the NCT, administered by the New Delhi Municipal Council (NDMC), which covers mostly Lutyens' Delhi and a few adjacent areas. The municipal area is part of a larger administrative district, the New Delhi district.\n",
      "Although colloquially Delhi and New Delhi are used interchangeably to refer to the National Capital Territory of Delhi, both are distinct entities, with the municipality and the New Delhi district forming a relatively small part within the megacity of Delhi. The National Capital Region is an even larger entity, comprising the entire NCT along with adjoining districts in the two neighbouring states forming a continuously built-up area with it, including Ghaziabad, Noida, Greater Noida, Meerut, YEIDA City, Gurgaon, and Faridabad.\n",
      "The foundation stone of New Delhi, south of central Delhi, was laid by George V during the Delhi Durbar of 1911. It was designed by British architects Edwin Lutyens and Herbert Baker. The new capital was inaugurated on 13 February 1931, by Viceroy and Governor-General Irwin.\u001b[0m\u001b[32;1m\u001b[1;3mAction: Weather_tool\n",
      "Action Input: \"New Delhi\"\u001b[0m\u001b[33;1m\u001b[1;3m{'request': {'type': 'City', 'query': 'New Delhi, India', 'language': 'en', 'unit': 'm'}, 'location': {'name': 'New Delhi', 'country': 'India', 'region': 'Delhi', 'lat': '28.600', 'lon': '77.200', 'timezone_id': 'Asia/Kolkata', 'localtime': '2025-07-08 16:59', 'localtime_epoch': 1751993940, 'utc_offset': '5.50'}, 'current': {'observation_time': '11:29 AM', 'temperature': 35, 'weather_code': 143, 'weather_icons': ['https://cdn.worldweatheronline.com/images/wsymbols01_png_64/wsymbol_0006_mist.png'], 'weather_descriptions': ['Haze'], 'astro': {'sunrise': '05:30 AM', 'sunset': '07:23 PM', 'moonrise': '05:34 PM', 'moonset': '02:49 AM', 'moon_phase': 'Waxing Gibbous', 'moon_illumination': 92}, 'air_quality': {'co': '569.8', 'no2': '35.15', 'o3': '167', 'so2': '84.175', 'pm2_5': '74.74', 'pm10': '115.44', 'us-epa-index': '4', 'gb-defra-index': '4'}, 'wind_speed': 15, 'wind_degree': 296, 'wind_dir': 'WNW', 'pressure': 998, 'precip': 0, 'humidity': 63, 'cloudcover': 50, 'feelslike': 37, 'uv_index': 1, 'visibility': 5, 'is_day': 'yes'}}\u001b[0m\u001b[32;1m\u001b[1;3mI now know the final answer.\n",
      "\n",
      "Final Answer: The capital of India is New Delhi, and its current weather conditions are: Haze with a temperature of 35°C, humidity of 63%, wind speed of 15 km/h, and visibility of 5 km.\u001b[0m\n",
      "\n",
      "\u001b[1m> Finished chain.\u001b[0m\n"
     ]
    },
    {
     "data": {
      "text/plain": [
       "{'input': 'what is the captial of india and also tell me about its weather conditions',\n",
       " 'output': 'The capital of India is New Delhi, and its current weather conditions are: Haze with a temperature of 35°C, humidity of 63%, wind speed of 15 km/h, and visibility of 5 km.'}"
      ]
     },
     "execution_count": 46,
     "metadata": {},
     "output_type": "execute_result"
    }
   ],
   "source": [
    "#lets check the working of our agent \n",
    "query='what is the captial of india and also tell me about its weather conditions' \n",
    "agent_exe.invoke({'input':query})"
   ]
  },
  {
   "cell_type": "code",
   "execution_count": null,
   "id": "1c2884bd",
   "metadata": {},
   "outputs": [],
   "source": [
    "#Now we can see that our agent is working fine\n",
    "#THANKS FOR REACHING ME OUT IF YOU ARE READING MY CODE \n",
    "# I would like to thanks Nitish sir(founder of CampusX) for his invaluable knowledge \n"
   ]
  }
 ],
 "metadata": {
  "kernelspec": {
   "display_name": "lang_env",
   "language": "python",
   "name": "python3"
  },
  "language_info": {
   "codemirror_mode": {
    "name": "ipython",
    "version": 3
   },
   "file_extension": ".py",
   "mimetype": "text/x-python",
   "name": "python",
   "nbconvert_exporter": "python",
   "pygments_lexer": "ipython3",
   "version": "3.12.1"
  }
 },
 "nbformat": 4,
 "nbformat_minor": 5
}
