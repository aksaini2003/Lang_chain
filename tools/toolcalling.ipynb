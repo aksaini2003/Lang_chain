{
 "cells": [
  {
   "cell_type": "code",
   "execution_count": 140,
   "id": "4c165e04",
   "metadata": {},
   "outputs": [],
   "source": [
    "#we knows how to make a tools for the llm model using the ai agents lets see how they are called by llm \n",
    "\n"
   ]
  },
  {
   "cell_type": "code",
   "execution_count": 141,
   "id": "b15878f7",
   "metadata": {},
   "outputs": [],
   "source": [
    "#firstly create a tool \n",
    "from langchain_core.tools import tool \n",
    "@tool\n",
    "def  multiply(a: int,b: int)-> int:\n",
    "    '''Multiply 2 numbers'''\n",
    "    return a*b \n"
   ]
  },
  {
   "cell_type": "code",
   "execution_count": 142,
   "id": "0fff34df",
   "metadata": {},
   "outputs": [],
   "source": [
    "from langchain_core.messages import HumanMessage \n",
    "from langchain_groq import ChatGroq\n"
   ]
  },
  {
   "cell_type": "code",
   "execution_count": 143,
   "id": "554cb5f7",
   "metadata": {},
   "outputs": [],
   "source": [
    "#let first make a llm instace\n",
    "import os \n",
    "from dotenv import load_dotenv \n",
    "load_dotenv()\n",
    "groq_api_key=os.environ['GROQ_API_KEY']\n",
    "llm=ChatGroq(model='Llama3-70b-8192')\n"
   ]
  },
  {
   "cell_type": "code",
   "execution_count": 144,
   "id": "d0719b0d",
   "metadata": {},
   "outputs": [
    {
     "data": {
      "text/plain": [
       "AIMessage(content=\"Hi! It's nice to meet you. Is there something I can help you with or would you like to chat?\", additional_kwargs={}, response_metadata={'token_usage': {'completion_tokens': 25, 'prompt_tokens': 11, 'total_tokens': 36, 'completion_time': 0.071428571, 'prompt_time': 0.000125138, 'queue_time': 0.052944343000000005, 'total_time': 0.071553709}, 'model_name': 'Llama3-70b-8192', 'system_fingerprint': 'fp_dd4ae1c591', 'finish_reason': 'stop', 'logprobs': None}, id='run--c0163e82-480c-4c4b-8751-656f8b440925-0', usage_metadata={'input_tokens': 11, 'output_tokens': 25, 'total_tokens': 36})"
      ]
     },
     "execution_count": 144,
     "metadata": {},
     "output_type": "execute_result"
    }
   ],
   "source": [
    "llm.invoke('hi') #so our llm is perfectly working fine \n"
   ]
  },
  {
   "cell_type": "code",
   "execution_count": 145,
   "id": "01162d9e",
   "metadata": {},
   "outputs": [],
   "source": [
    "llm_with_tools=llm.bind_tools([multiply]) #currently we are passing a single tool but we can also pass multiple tools "
   ]
  },
  {
   "cell_type": "code",
   "execution_count": 146,
   "id": "ceb48e8e",
   "metadata": {},
   "outputs": [],
   "source": [
    "messages=[]\n",
    "query='what is multiplication of 50 and 55'"
   ]
  },
  {
   "cell_type": "code",
   "execution_count": 147,
   "id": "baed13b3",
   "metadata": {},
   "outputs": [],
   "source": [
    "messages.append(HumanMessage(query))"
   ]
  },
  {
   "cell_type": "code",
   "execution_count": 148,
   "id": "f9d22718",
   "metadata": {},
   "outputs": [
    {
     "name": "stdout",
     "output_type": "stream",
     "text": [
      "content='' additional_kwargs={'tool_calls': [{'id': 'xbx4qa795', 'function': {'arguments': '{\"a\":50,\"b\":55}', 'name': 'multiply'}, 'type': 'function'}]} response_metadata={'token_usage': {'completion_tokens': 36, 'prompt_tokens': 901, 'total_tokens': 937, 'completion_time': 0.104458165, 'prompt_time': 0.029164582, 'queue_time': 0.054052488, 'total_time': 0.133622747}, 'model_name': 'Llama3-70b-8192', 'system_fingerprint': 'fp_dd4ae1c591', 'finish_reason': 'tool_calls', 'logprobs': None} id='run--d114d084-a219-431b-8868-746b76c08c56-0' tool_calls=[{'name': 'multiply', 'args': {'a': 50, 'b': 55}, 'id': 'xbx4qa795', 'type': 'tool_call'}] usage_metadata={'input_tokens': 901, 'output_tokens': 36, 'total_tokens': 937}\n"
     ]
    }
   ],
   "source": [
    "ai_response=llm_with_tools.invoke(messages)\n",
    "messages.append(ai_response)\n",
    "print(ai_response)"
   ]
  },
  {
   "cell_type": "code",
   "execution_count": 149,
   "id": "3b31651f",
   "metadata": {},
   "outputs": [],
   "source": [
    "tool_call=ai_response.tool_calls[0]"
   ]
  },
  {
   "cell_type": "code",
   "execution_count": 150,
   "id": "2c0ae062",
   "metadata": {},
   "outputs": [
    {
     "data": {
      "text/plain": [
       "{'name': 'multiply',\n",
       " 'args': {'a': 50, 'b': 55},\n",
       " 'id': 'xbx4qa795',\n",
       " 'type': 'tool_call'}"
      ]
     },
     "execution_count": 150,
     "metadata": {},
     "output_type": "execute_result"
    }
   ],
   "source": [
    "tool_call"
   ]
  },
  {
   "cell_type": "code",
   "execution_count": 151,
   "id": "f4b34156",
   "metadata": {},
   "outputs": [
    {
     "name": "stdout",
     "output_type": "stream",
     "text": [
      "content='2750' name='multiply' tool_call_id='xbx4qa795'\n"
     ]
    }
   ],
   "source": [
    "tool_msg=multiply.invoke(tool_call)\n",
    "messages.append(tool_msg)\n",
    "print(tool_msg) #the above return a tool message "
   ]
  },
  {
   "cell_type": "code",
   "execution_count": null,
   "id": "e932541e",
   "metadata": {},
   "outputs": [],
   "source": []
  },
  {
   "cell_type": "code",
   "execution_count": 152,
   "id": "f4444710",
   "metadata": {},
   "outputs": [
    {
     "data": {
      "text/plain": [
       "2750"
      ]
     },
     "execution_count": 152,
     "metadata": {},
     "output_type": "execute_result"
    }
   ],
   "source": [
    "#and we also can call the function usign the args value only \n",
    "multiply.invoke(tool_call['args']) #but this will return the result only"
   ]
  },
  {
   "cell_type": "code",
   "execution_count": 153,
   "id": "7d1bac6d",
   "metadata": {},
   "outputs": [
    {
     "data": {
      "text/plain": [
       "[HumanMessage(content='what is multiplication of 50 and 55', additional_kwargs={}, response_metadata={}),\n",
       " AIMessage(content='', additional_kwargs={'tool_calls': [{'id': 'xbx4qa795', 'function': {'arguments': '{\"a\":50,\"b\":55}', 'name': 'multiply'}, 'type': 'function'}]}, response_metadata={'token_usage': {'completion_tokens': 36, 'prompt_tokens': 901, 'total_tokens': 937, 'completion_time': 0.104458165, 'prompt_time': 0.029164582, 'queue_time': 0.054052488, 'total_time': 0.133622747}, 'model_name': 'Llama3-70b-8192', 'system_fingerprint': 'fp_dd4ae1c591', 'finish_reason': 'tool_calls', 'logprobs': None}, id='run--d114d084-a219-431b-8868-746b76c08c56-0', tool_calls=[{'name': 'multiply', 'args': {'a': 50, 'b': 55}, 'id': 'xbx4qa795', 'type': 'tool_call'}], usage_metadata={'input_tokens': 901, 'output_tokens': 36, 'total_tokens': 937}),\n",
       " ToolMessage(content='2750', name='multiply', tool_call_id='xbx4qa795')]"
      ]
     },
     "execution_count": 153,
     "metadata": {},
     "output_type": "execute_result"
    }
   ],
   "source": [
    "messages"
   ]
  },
  {
   "cell_type": "code",
   "execution_count": 181,
   "id": "f5f059c2",
   "metadata": {},
   "outputs": [],
   "source": [
    "#now lets create 2 tools and attach them to the llm\n",
    "from langchain.tools import tool  \n",
    "from typing import Annotated \n",
    "from langchain_core.tools import InjectedToolArg  \n",
    "@tool \n",
    "def Multiply(a: float,b: float)-> float: \n",
    "    \"\"\"Multiply 2 numbers \"\"\"\n",
    "    return a*b \n",
    "# @tool   #if we want to pass the returned value from teh multiplication to the addition then perform addition \n",
    "# def Addition(a: Annotated[float,InjectedToolArg],b: float )-> float:\n",
    "#     \"\"\"Addition of 2 numbers \"\"\"\n",
    "#     return a+b \n",
    "\n",
    "#if not then following tool is correct \n",
    "@tool \n",
    "def Addition(a: float,b: float)-> float:\n",
    "    \"\"\"Addition of 2 given numbers\"\"\"\n",
    "    return a+b\n",
    "\n"
   ]
  },
  {
   "cell_type": "code",
   "execution_count": 182,
   "id": "9f89756d",
   "metadata": {},
   "outputs": [],
   "source": [
    "from langchain_groq import ChatGroq\n",
    "llm=ChatGroq(model='Llama3-70b-8192')\n",
    "# llm.invoke('hi')"
   ]
  },
  {
   "cell_type": "code",
   "execution_count": 183,
   "id": "b965f193",
   "metadata": {},
   "outputs": [],
   "source": [
    "#working fine lets add tool to it \n",
    "#but here we have to make a instance for the usage of the tools\n",
    "llm_with_tools=llm.bind_tools([Multiply,Addition])\n"
   ]
  },
  {
   "cell_type": "code",
   "execution_count": 184,
   "id": "fe5c77cc",
   "metadata": {},
   "outputs": [],
   "source": [
    "msg=[]\n",
    "query=HumanMessage('what is 3 multiply by 8 and 3993 addition with 878') #if we have to use this then we have\n",
    "#to remove the annotated attribute from the tool of addition 's arugments \n",
    "\n",
    "# query2=HumanMessage('multiply 98 with 544 and then add 5758 with that multiplied value')\n",
    "msg.append(query)"
   ]
  },
  {
   "cell_type": "code",
   "execution_count": 185,
   "id": "abe9df1c",
   "metadata": {},
   "outputs": [],
   "source": [
    "#not lets invoke the llm model with the given query \n",
    "ai_msg=llm_with_tools.invoke(msg)"
   ]
  },
  {
   "cell_type": "code",
   "execution_count": 186,
   "id": "64850fd1",
   "metadata": {},
   "outputs": [],
   "source": [
    "#lets append this to the msg \n",
    "msg.append(ai_msg)"
   ]
  },
  {
   "cell_type": "code",
   "execution_count": 189,
   "id": "e54badf3",
   "metadata": {},
   "outputs": [
    {
     "data": {
      "text/plain": [
       "[{'name': 'Multiply',\n",
       "  'args': {'a': 3, 'b': 8},\n",
       "  'id': 'dq528csq6',\n",
       "  'type': 'tool_call'},\n",
       " {'name': 'Addition',\n",
       "  'args': {'a': 3993, 'b': 878},\n",
       "  'id': 'rwyva4868',\n",
       "  'type': 'tool_call'}]"
      ]
     },
     "execution_count": 189,
     "metadata": {},
     "output_type": "execute_result"
    }
   ],
   "source": [
    "ai_msg.tool_calls  #here we have to extract both tool calls and then return the response to the llm \n",
    "#tool call look like this\n",
    "\n",
    "# [{'name': 'Multiply',\n",
    "#   'args': {'a': 98, 'b': 544},\n",
    "#   'id': 'qa26x3c3v',\n",
    "#   'type': 'tool_call'},\n",
    "#  {'name': 'Addition',\n",
    "#   'args': {'a': 0, 'b': 5758},\n",
    "#   'id': '4nns5nj88',\n",
    "#   'type': 'tool_call'}] #here in the tool_calls we can see it is taking the value as 0 \n",
    "#but it should calculate teh multiplication first and then shold pass it ot the addition \n",
    "#so we have to modify the function in such a way that the llm stick to the logic never done thing self without tools\n",
    "\n",
    "\n",
    "\n",
    "#and now for our work like first multiplication then the addition for this we ahve to add the returned value to \n",
    "#the addition function's arguments\n"
   ]
  },
  {
   "cell_type": "code",
   "execution_count": 190,
   "id": "7086486b",
   "metadata": {},
   "outputs": [
    {
     "name": "stdout",
     "output_type": "stream",
     "text": [
      "content='24.0' name='Multiply' tool_call_id='dq528csq6'\n",
      "content='4871.0' name='Addition' tool_call_id='rwyva4868'\n"
     ]
    }
   ],
   "source": [
    "# multiplication=...\n",
    "\n",
    "# for tool_call in ai_msg.tool_calls:\n",
    "\n",
    "#     if tool_call['name']=='Multiply':\n",
    "#        tool_msg1=Multiply.invoke(tool_call)\n",
    "#        msg.append(tool_msg1) \n",
    "#        print(tool_msg1)\n",
    "#        #we have to store teh value that is returned from the multiply and then pass it to the addition\n",
    "#        multiplication=tool_msg1.content\n",
    "#        print(multiplication) #so we are getting the values ok now pass it to the addition invocation\n",
    "       \n",
    "#        #we have to get the multiplied value and store it in the variable\n",
    "#     if tool_call['name']=='Addition':\n",
    "#         print(tool_call)\n",
    "#         tool_call['args']['a']=multiplication\n",
    "#         print(tool_call['args'])\n",
    "        \n",
    "#         tool_msg2=Addition.invoke(tool_call)\n",
    "#         msg.append(tool_msg2)\n",
    "        \n",
    "#         print(tool_msg2)\n",
    "    \n",
    "#NOTE THE ABOVE LOGIS IS USED IF WE WANT TO ADD THE FUNCITONAILITY \n",
    "# LIKE: FIRST CALCULATE THE MULTIPLICATION THEN PASS IT TO THE ADDITION AND THEN ADD A VALUE IN IT \n",
    "#IF NOT THEN THE FOLLOWIG LOGIC FOR THE PARALLEL OPERATION \n",
    "for tool_call in ai_msg.tool_calls:\n",
    "    if tool_call['name']=='Multiply':\n",
    "        tool_msg1=Multiply.invoke(tool_call)\n",
    "        msg.append(tool_msg1)\n",
    "        print(tool_msg1)\n",
    "    if tool_call['name']=='Addition':\n",
    "        tool_msg2=Addition.invoke(tool_call)\n",
    "        msg.append(tool_msg2)\n",
    "        print(tool_msg2)"
   ]
  },
  {
   "cell_type": "code",
   "execution_count": 176,
   "id": "cd1e6ba1",
   "metadata": {},
   "outputs": [
    {
     "data": {
      "text/plain": [
       "AIMessage(content='The result of the multiplication is 24.0 and the result of the addition is 4871.0.', additional_kwargs={}, response_metadata={'token_usage': {'completion_tokens': 24, 'prompt_tokens': 1158, 'total_tokens': 1182, 'completion_time': 0.118739809, 'prompt_time': 0.045250062, 'queue_time': 0.06689783799999999, 'total_time': 0.163989871}, 'model_name': 'Llama3-70b-8192', 'system_fingerprint': 'fp_dd4ae1c591', 'finish_reason': 'stop', 'logprobs': None}, id='run--cecedfd4-f3b6-432e-a9b1-59cb5a86e8a0-0', usage_metadata={'input_tokens': 1158, 'output_tokens': 24, 'total_tokens': 1182})"
      ]
     },
     "execution_count": 191,
     "metadata": {},
     "output_type": "execute_result"
    }
   ],
   "source": [
    "#lets pass it to the llm and then it will generate the reponse\n",
    "llm_with_tools.invoke(msg)"
   ]
  },
  {
   "cell_type": "code",
   "execution_count": null,
   "id": "f89d4dd0",
   "metadata": {},
   "outputs": [],
   "source": [
    "#lets make an another case also where we have to perform task in the series by changing teh query \n",
    "#from old to query=multiply 98 with 544 and add 8788 with it and return its value \n",
    "\n",
    "\n",
    "\n",
    "\n",
    "#NOTE THE ABOVE CODE IS NOT A AI AGENT HERE WE ARE INVOKING THE TOOLS\n",
    "#BUT THE AI AGENT CAN DO THIS BY ITSELF THAT'S IS TEH BIG DIFFERNCE\n"
   ]
  }
 ],
 "metadata": {
  "kernelspec": {
   "display_name": "lang_env",
   "language": "python",
   "name": "python3"
  },
  "language_info": {
   "codemirror_mode": {
    "name": "ipython",
    "version": 3
   },
   "file_extension": ".py",
   "mimetype": "text/x-python",
   "name": "python",
   "nbconvert_exporter": "python",
   "pygments_lexer": "ipython3",
   "version": "3.12.1"
  }
 },
 "nbformat": 4,
 "nbformat_minor": 5
}
